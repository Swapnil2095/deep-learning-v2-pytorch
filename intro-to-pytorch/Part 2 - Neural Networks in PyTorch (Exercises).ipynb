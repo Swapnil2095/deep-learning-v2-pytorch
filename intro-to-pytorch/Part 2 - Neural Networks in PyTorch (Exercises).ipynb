{
 "cells": [
  {
   "cell_type": "markdown",
   "metadata": {},
   "source": [
    "# Neural networks with PyTorch\n",
    "\n",
    "Deep learning networks tend to be massive with dozens or hundreds of layers, that's where the term \"deep\" comes from. You can build one of these deep networks using only weight matrices as we did in the previous notebook, but in general it's very cumbersome and difficult to implement. PyTorch has a nice module `nn` that provides a nice way to efficiently build large neural networks."
   ]
  },
  {
   "cell_type": "code",
   "execution_count": 1,
   "metadata": {},
   "outputs": [],
   "source": [
    "# Import necessary packages\n",
    "\n",
    "%matplotlib inline\n",
    "%config InlineBackend.figure_format = 'retina'\n",
    "\n",
    "import numpy as np\n",
    "import torch\n",
    "\n",
    "import helper\n",
    "\n",
    "import matplotlib.pyplot as plt"
   ]
  },
  {
   "cell_type": "markdown",
   "metadata": {},
   "source": [
    "\n",
    "Now we're going to build a larger network that can solve a (formerly) difficult problem, identifying text in an image. Here we'll use the MNIST dataset which consists of greyscale handwritten digits. Each image is 28x28 pixels, you can see a sample below\n",
    "\n",
    "<img src='assets/mnist.png'>\n",
    "\n",
    "Our goal is to build a neural network that can take one of these images and predict the digit in the image.\n",
    "\n",
    "First up, we need to get our dataset. This is provided through the `torchvision` package. The code below will download the MNIST dataset, then create training and test datasets for us. Don't worry too much about the details here, you'll learn more about this later."
   ]
  },
  {
   "cell_type": "code",
   "execution_count": 2,
   "metadata": {},
   "outputs": [
    {
     "name": "stdout",
     "output_type": "stream",
     "text": [
      "Downloading http://yann.lecun.com/exdb/mnist/train-images-idx3-ubyte.gz\n",
      "Downloading http://yann.lecun.com/exdb/mnist/train-labels-idx1-ubyte.gz\n",
      "Downloading http://yann.lecun.com/exdb/mnist/t10k-images-idx3-ubyte.gz\n",
      "Downloading http://yann.lecun.com/exdb/mnist/t10k-labels-idx1-ubyte.gz\n",
      "Processing...\n",
      "Done!\n"
     ]
    }
   ],
   "source": [
    "### Run this cell\n",
    "\n",
    "from torchvision import datasets, transforms\n",
    "\n",
    "# Define a transform to normalize the data\n",
    "transform = transforms.Compose([transforms.ToTensor(),\n",
    "                              transforms.Normalize((0.5,), (0.5,)),\n",
    "                              ])\n",
    "\n",
    "# Download and load the training data\n",
    "trainset = datasets.MNIST('~/.pytorch/MNIST_data/', download=True, train=True, transform=transform)\n",
    "trainloader = torch.utils.data.DataLoader(trainset, batch_size=64, shuffle=True)"
   ]
  },
  {
   "cell_type": "markdown",
   "metadata": {},
   "source": [
    "We have the training data loaded into `trainloader` and we make that an iterator with `iter(trainloader)`. Later, we'll use this to loop through the dataset for training, like\n",
    "\n",
    "```python\n",
    "for image, label in trainloader:\n",
    "    ## do things with images and labels\n",
    "```\n",
    "\n",
    "You'll notice I created the `trainloader` with a batch size of 64, and `shuffle=True`. The batch size is the number of images we get in one iteration from the data loader and pass through our network, often called a *batch*. And `shuffle=True` tells it to shuffle the dataset every time we start going through the data loader again. But here I'm just grabbing the first batch so we can check out the data. We can see below that `images` is just a tensor with size `(64, 1, 28, 28)`. So, 64 images per batch, 1 color channel, and 28x28 images."
   ]
  },
  {
   "cell_type": "code",
   "execution_count": 3,
   "metadata": {},
   "outputs": [
    {
     "name": "stdout",
     "output_type": "stream",
     "text": [
      "<class 'torch.Tensor'>\n",
      "torch.Size([64, 1, 28, 28])\n",
      "torch.Size([64])\n"
     ]
    }
   ],
   "source": [
    "dataiter = iter(trainloader)\n",
    "images, labels = dataiter.next()\n",
    "print(type(images))\n",
    "print(images.shape)\n",
    "print(labels.shape)"
   ]
  },
  {
   "cell_type": "markdown",
   "metadata": {},
   "source": [
    "This is what one of the images looks like. "
   ]
  },
  {
   "cell_type": "code",
   "execution_count": 4,
   "metadata": {},
   "outputs": [
    {
     "data": {
      "image/png": "[encoded data removed]",
      "text/plain": [
       "<Figure size 432x288 with 1 Axes>"
      ]
     },
     "metadata": {
      "image/png": {
       "height": 250,
       "width": 253
      },
      "needs_background": "light"
     },
     "output_type": "display_data"
    }
   ],
   "source": [
    "plt.imshow(images[1].numpy().squeeze(), cmap='Greys_r');"
   ]
  },
  {
   "cell_type": "markdown",
   "metadata": {},
   "source": [
    "First, let's try to build a simple network for this dataset using weight matrices and matrix multiplications. Then, we'll see how to do it using PyTorch's `nn` module which provides a much more convenient and powerful method for defining network architectures.\n",
    "\n",
    "The networks you've seen so far are called *fully-connected* or *dense* networks. Each unit in one layer is connected to each unit in the next layer. In fully-connected networks, the input to each layer must be a one-dimensional vector (which can be stacked into a 2D tensor as a batch of multiple examples). However, our images are 28x28 2D tensors, so we need to convert them into 1D vectors. Thinking about sizes, we need to convert the batch of images with shape `(64, 1, 28, 28)` to a have a shape of `(64, 784)`, 784 is 28 times 28. This is typically called *flattening*, we flattened the 2D images into 1D vectors.\n",
    "\n",
    "Previously you built a network with one output unit. Here we need 10 output units, one for each digit. We want our network to predict the digit shown in an image, so what we'll do is calculate probabilities that the image is of any one digit or class. This ends up being a discrete probability distribution over the classes (digits) that tells us the most likely class for the image. That means we need 10 output units for the 10 classes (digits). We'll see how to convert the network output into a probability distribution next.\n",
    "\n",
    "> **Exercise:** Flatten the batch of images `images`. Then build a multi-layer network with 784 input units, 256 hidden units, and 10 output units using random tensors for the weights and biases. For now, use a sigmoid activation for the hidden layer. Leave the output layer without an activation, we'll add one that gives us a probability distribution next."
   ]
  },
  {
   "cell_type": "code",
   "execution_count": 10,
   "metadata": {},
   "outputs": [
    {
     "name": "stdout",
     "output_type": "stream",
     "text": [
      "64\n",
      "torch.Size([64, 784])\n",
      "tensor([-1.0000, -1.0000, -1.0000, -1.0000, -1.0000, -1.0000, -1.0000, -1.0000,\n",
      "        -1.0000, -1.0000, -1.0000, -1.0000, -1.0000, -1.0000, -1.0000, -1.0000,\n",
      "        -1.0000, -1.0000, -1.0000, -1.0000, -1.0000, -1.0000, -1.0000, -1.0000,\n",
      "        -1.0000, -1.0000, -1.0000, -1.0000, -1.0000, -1.0000, -1.0000, -1.0000,\n",
      "        -1.0000, -1.0000, -1.0000, -1.0000, -1.0000, -1.0000, -1.0000, -1.0000,\n",
      "        -1.0000, -1.0000, -1.0000, -1.0000, -1.0000, -1.0000, -1.0000, -1.0000,\n",
      "        -1.0000, -1.0000, -1.0000, -1.0000, -1.0000, -1.0000, -1.0000, -1.0000,\n",
      "        -1.0000, -1.0000, -1.0000, -1.0000, -1.0000, -1.0000, -1.0000, -1.0000,\n",
      "        -1.0000, -1.0000, -1.0000, -0.0353,  0.9922,  0.0039, -1.0000, -1.0000,\n",
      "        -1.0000, -1.0000, -1.0000, -1.0000, -1.0000, -1.0000, -1.0000, -1.0000,\n",
      "        -1.0000, -1.0000, -1.0000, -1.0000, -1.0000, -1.0000, -1.0000, -1.0000,\n",
      "        -1.0000, -1.0000, -1.0000, -1.0000, -1.0000, -1.0000, -0.8118,  0.6000,\n",
      "         0.9843,  0.3804, -1.0000, -1.0000, -1.0000, -1.0000, -1.0000, -1.0000,\n",
      "        -1.0000, -1.0000, -1.0000, -1.0000, -1.0000, -1.0000, -1.0000, -1.0000,\n",
      "        -1.0000, -1.0000, -1.0000, -1.0000, -1.0000, -1.0000, -1.0000, -1.0000,\n",
      "        -1.0000, -1.0000,  0.4118,  0.9843,  0.9843, -0.3333, -1.0000, -1.0000,\n",
      "        -1.0000, -1.0000, -1.0000, -1.0000, -1.0000, -1.0000, -1.0000, -1.0000,\n",
      "        -1.0000, -1.0000, -1.0000, -1.0000, -1.0000, -1.0000, -1.0000, -1.0000,\n",
      "        -1.0000, -1.0000, -1.0000, -1.0000, -1.0000, -0.7647,  0.7882,  0.9843,\n",
      "         0.6549, -0.9765, -1.0000, -1.0000, -1.0000, -1.0000, -1.0000, -1.0000,\n",
      "        -1.0000, -1.0000, -1.0000, -1.0000, -1.0000, -1.0000, -1.0000, -1.0000,\n",
      "        -1.0000, -1.0000, -1.0000, -1.0000, -1.0000, -1.0000, -1.0000, -1.0000,\n",
      "        -0.9608, -0.2235,  0.9843,  0.9843,  0.0667, -1.0000, -1.0000, -1.0000,\n",
      "        -1.0000, -1.0000, -1.0000, -1.0000, -1.0000, -1.0000, -1.0000, -1.0000,\n",
      "        -1.0000, -1.0000, -1.0000, -1.0000, -1.0000, -1.0000, -1.0000, -1.0000,\n",
      "        -1.0000, -1.0000, -1.0000, -1.0000, -0.8196,  0.9843,  0.9843,  0.6157,\n",
      "        -0.8275, -1.0000, -1.0000, -1.0000, -1.0000, -1.0000, -1.0000, -1.0000,\n",
      "        -1.0000, -1.0000, -1.0000, -1.0000, -1.0000, -1.0000, -1.0000, -1.0000,\n",
      "        -1.0000, -1.0000, -1.0000, -1.0000, -1.0000, -1.0000, -1.0000, -1.0000,\n",
      "        -0.4039,  0.9843,  0.9843, -0.3804, -1.0000, -1.0000, -1.0000, -1.0000,\n",
      "        -1.0000, -1.0000, -1.0000, -1.0000, -1.0000, -1.0000, -1.0000, -1.0000,\n",
      "        -1.0000, -1.0000, -1.0000, -1.0000, -1.0000, -1.0000, -1.0000, -1.0000,\n",
      "        -1.0000, -1.0000, -1.0000, -0.8588,  0.5843,  0.9843,  0.4118, -0.9294,\n",
      "        -1.0000, -1.0000, -1.0000, -1.0000, -1.0000, -1.0000, -1.0000, -1.0000,\n",
      "        -1.0000, -1.0000, -1.0000, -1.0000, -1.0000, -1.0000, -1.0000, -1.0000,\n",
      "        -1.0000, -1.0000, -1.0000, -1.0000, -1.0000, -1.0000, -1.0000, -0.2157,\n",
      "         0.9843,  0.9843, -0.5686, -1.0000, -1.0000, -1.0000, -1.0000, -1.0000,\n",
      "        -1.0000, -1.0000, -1.0000, -1.0000, -0.7804, -0.4118, -1.0000, -1.0000,\n",
      "        -1.0000, -1.0000, -1.0000, -1.0000, -1.0000, -1.0000, -1.0000, -1.0000,\n",
      "        -1.0000, -1.0000, -1.0000,  0.1608,  0.9843,  0.6078, -0.9451, -1.0000,\n",
      "        -1.0000, -1.0000, -1.0000, -1.0000, -1.0000, -1.0000, -0.0824,  0.7333,\n",
      "         0.8196,  0.9765,  0.7333, -0.5451, -1.0000, -1.0000, -1.0000, -1.0000,\n",
      "        -1.0000, -1.0000, -1.0000, -1.0000, -1.0000, -1.0000, -0.9294,  0.7020,\n",
      "         0.9765, -0.3961, -1.0000, -1.0000, -1.0000, -1.0000, -1.0000, -0.9608,\n",
      "        -0.5059,  0.8510,  0.9922,  0.9922,  0.9922,  0.9922,  0.9922,  0.3882,\n",
      "        -1.0000, -1.0000, -1.0000, -1.0000, -1.0000, -1.0000, -1.0000, -1.0000,\n",
      "        -1.0000, -1.0000, -0.4745,  0.9843,  0.8118, -1.0000, -1.0000, -1.0000,\n",
      "        -1.0000, -1.0000, -0.7647,  0.4745,  0.9843,  0.9843,  0.9843,  0.6471,\n",
      "         0.8745,  0.9843,  0.9843,  0.3804, -1.0000, -1.0000, -1.0000, -1.0000,\n",
      "        -1.0000, -1.0000, -1.0000, -1.0000, -1.0000, -1.0000,  0.2392,  0.9843,\n",
      "         0.8118, -1.0000, -1.0000, -1.0000, -1.0000, -1.0000,  0.5843,  0.9922,\n",
      "         0.9843,  0.9843, -0.2157, -0.8824, -0.7333,  0.8510,  0.9843,  0.3804,\n",
      "        -1.0000, -1.0000, -1.0000, -1.0000, -1.0000, -1.0000, -1.0000, -1.0000,\n",
      "        -1.0000, -1.0000,  0.3882,  0.9843,  0.8118, -1.0000, -1.0000, -1.0000,\n",
      "        -0.9686,  0.0824,  0.9765,  0.7804, -0.0510, -0.7725, -0.9922, -1.0000,\n",
      "        -0.2549,  0.9843,  0.9608, -0.4902, -1.0000, -1.0000, -1.0000, -1.0000,\n",
      "        -1.0000, -1.0000, -1.0000, -1.0000, -1.0000, -1.0000,  0.3882,  0.9843,\n",
      "         0.8510, -0.8431, -1.0000, -1.0000, -0.6471,  0.9843,  0.9843, -0.3176,\n",
      "        -1.0000, -1.0000, -1.0000, -0.5216,  0.8431,  0.9686, -0.0902, -1.0000,\n",
      "        -1.0000, -1.0000, -1.0000, -1.0000, -1.0000, -1.0000, -1.0000, -1.0000,\n",
      "        -1.0000, -1.0000,  0.3882,  0.9843,  0.9843,  0.5216, -0.8510, -1.0000,\n",
      "        -0.6471,  0.9843,  0.6863, -1.0000, -1.0000, -1.0000, -0.5529,  0.8431,\n",
      "         0.9843,  0.6000, -1.0000, -1.0000, -1.0000, -1.0000, -1.0000, -1.0000,\n",
      "        -1.0000, -1.0000, -1.0000, -1.0000, -1.0000, -1.0000, -0.4275,  0.9765,\n",
      "         0.9843,  0.9843,  0.8588,  0.4431,  0.8510,  0.9843,  0.5373, -0.0353,\n",
      "        -0.0431,  0.2941,  0.9059,  0.9843,  0.6549, -0.8353, -1.0000, -1.0000,\n",
      "        -1.0000, -1.0000, -1.0000, -1.0000, -1.0000, -1.0000, -1.0000, -1.0000,\n",
      "        -1.0000, -1.0000, -1.0000,  0.4980,  0.9843,  0.9843,  0.9843,  0.9843,\n",
      "         0.9843,  0.9843,  0.9843,  1.0000,  0.9843,  0.9843,  0.9843,  0.9137,\n",
      "        -0.3098, -1.0000, -1.0000, -1.0000, -1.0000, -1.0000, -1.0000, -1.0000,\n",
      "        -1.0000, -1.0000, -1.0000, -1.0000, -1.0000, -1.0000, -1.0000, -0.4510,\n",
      "         0.4353,  0.9843,  0.9843,  0.9843,  0.9843,  0.9843,  0.9843,  0.9922,\n",
      "         0.9843,  0.9843,  0.3255, -0.5922, -1.0000, -1.0000, -1.0000, -1.0000,\n",
      "        -1.0000, -1.0000, -1.0000, -1.0000, -1.0000, -1.0000, -1.0000, -1.0000,\n",
      "        -1.0000, -1.0000, -1.0000, -1.0000, -0.9765, -0.7412, -0.0588,  0.5373,\n",
      "         0.9843,  0.9843,  0.2314,  0.1216, -0.1059, -0.7412, -0.9843, -1.0000,\n",
      "        -1.0000, -1.0000, -1.0000, -1.0000, -1.0000, -1.0000, -1.0000, -1.0000,\n",
      "        -1.0000, -1.0000, -1.0000, -1.0000, -1.0000, -1.0000, -1.0000, -1.0000,\n",
      "        -1.0000, -1.0000, -1.0000, -1.0000, -1.0000, -1.0000, -1.0000, -1.0000,\n",
      "        -1.0000, -1.0000, -1.0000, -1.0000, -1.0000, -1.0000, -1.0000, -1.0000,\n",
      "        -1.0000, -1.0000, -1.0000, -1.0000, -1.0000, -1.0000, -1.0000, -1.0000,\n",
      "        -1.0000, -1.0000, -1.0000, -1.0000, -1.0000, -1.0000, -1.0000, -1.0000,\n",
      "        -1.0000, -1.0000, -1.0000, -1.0000, -1.0000, -1.0000, -1.0000, -1.0000,\n",
      "        -1.0000, -1.0000, -1.0000, -1.0000, -1.0000, -1.0000, -1.0000, -1.0000,\n",
      "        -1.0000, -1.0000, -1.0000, -1.0000, -1.0000, -1.0000, -1.0000, -1.0000,\n",
      "        -1.0000, -1.0000, -1.0000, -1.0000, -1.0000, -1.0000, -1.0000, -1.0000,\n",
      "        -1.0000, -1.0000, -1.0000, -1.0000, -1.0000, -1.0000, -1.0000, -1.0000,\n",
      "        -1.0000, -1.0000, -1.0000, -1.0000, -1.0000, -1.0000, -1.0000, -1.0000,\n",
      "        -1.0000, -1.0000, -1.0000, -1.0000, -1.0000, -1.0000, -1.0000, -1.0000,\n",
      "        -1.0000, -1.0000, -1.0000, -1.0000, -1.0000, -1.0000, -1.0000, -1.0000,\n",
      "        -1.0000, -1.0000, -1.0000, -1.0000, -1.0000, -1.0000, -1.0000, -1.0000,\n",
      "        -1.0000, -1.0000, -1.0000, -1.0000, -1.0000, -1.0000, -1.0000, -1.0000,\n",
      "        -1.0000, -1.0000, -1.0000, -1.0000, -1.0000, -1.0000, -1.0000, -1.0000,\n",
      "        -1.0000, -1.0000, -1.0000, -1.0000, -1.0000, -1.0000, -1.0000, -1.0000,\n",
      "        -1.0000, -1.0000, -1.0000, -1.0000, -1.0000, -1.0000, -1.0000, -1.0000,\n",
      "        -1.0000, -1.0000, -1.0000, -1.0000, -1.0000, -1.0000, -1.0000, -1.0000,\n",
      "        -1.0000, -1.0000, -1.0000, -1.0000, -1.0000, -1.0000, -1.0000, -1.0000,\n",
      "        -1.0000, -1.0000, -1.0000, -1.0000, -1.0000, -1.0000, -1.0000, -1.0000])\n"
     ]
    }
   ],
   "source": [
    "print(images.shape[0])\n",
    "inputs = images.view(images.shape[0], -1)\n",
    "print(inputs.size())\n",
    "print(inputs[0])"
   ]
  },
  {
   "cell_type": "code",
   "execution_count": 12,
   "metadata": {},
   "outputs": [
    {
     "data": {
      "text/plain": [
       "tensor([[-17.7385, -23.9654, -24.5362,   0.1067, -12.5186,  15.8912, -12.4350,\n",
       "          -4.0420,  15.6641,  -9.4568],\n",
       "        [-16.8949, -16.0766, -24.2288,  -5.2650,   8.8591,  17.0237,   4.0158,\n",
       "           1.9121,  14.4950,  -2.6451],\n",
       "        [-30.3479, -10.2906, -21.3273,  -0.4077,   1.4083,  26.3857,   5.9182,\n",
       "          -1.5226,   6.0096,  -5.3225],\n",
       "        [-14.9137, -14.4343,  -9.7821,  -9.0695,   5.0944,  24.4014,   8.9763,\n",
       "          -0.9944,  15.3820, -15.9732],\n",
       "        [-23.9892, -21.6588, -16.9285,  -2.0571,   5.2563,  23.4273,  -8.1863,\n",
       "          -2.6014,  19.1546, -12.2223],\n",
       "        [-21.0248, -19.8815, -18.2230,  -2.7947,   0.8305,  20.6715,   3.6995,\n",
       "          -1.2854,   6.8850, -12.0690],\n",
       "        [-12.9406, -20.9616, -14.0769,   3.6897,  -6.1646,  25.7816,  -5.4247,\n",
       "           2.6857,  12.6357, -13.6842],\n",
       "        [-14.5498, -20.3899, -22.7019,   1.3336,  -2.4283,  25.1526,  -5.2811,\n",
       "          -3.7431,   8.3295,  -4.4222],\n",
       "        [ -8.4140, -17.3642, -23.7059,  -3.0391, -10.2411,  30.9838,   1.3425,\n",
       "          -8.8637,  13.9537,   0.2141],\n",
       "        [-23.0481, -16.0356, -19.2666,  -5.3020,  -5.2419,  19.2988,   6.5412,\n",
       "          -6.6726,   6.7556,  -8.9320],\n",
       "        [-12.3471, -15.9462, -16.3205,   0.9868,   2.1000,  18.6393,  -0.0667,\n",
       "          -2.6601,   2.7699,   1.5324],\n",
       "        [-20.9924,  -2.1776, -11.9047,   7.9739,   3.6302,  17.6733,   6.6284,\n",
       "           0.4182,   4.3036, -12.4459],\n",
       "        [-22.6030, -13.5684, -19.3577,  -0.8351,  -9.9693,  23.5092,   1.7910,\n",
       "          -7.6383,   6.4860, -10.2279],\n",
       "        [-34.4783, -16.4553, -17.5573,   0.0091,  -1.7061,  17.9402,   3.6486,\n",
       "          -2.3144,   2.5139,  -8.6971],\n",
       "        [-25.1114, -12.2895, -10.7225,  -2.5058,   7.0941,  17.4620,  -1.2471,\n",
       "          -2.6207,  13.3807,  -3.5302],\n",
       "        [-27.6423, -15.0528, -13.8543,   2.8591,  -7.6684,  19.3270,   6.0066,\n",
       "         -10.6394,   4.6767, -14.3456],\n",
       "        [-17.6131, -25.1599, -15.1985,  -5.3436,  -0.0667,  14.1582,  -2.2760,\n",
       "          -5.6289,   0.4838, -10.8485],\n",
       "        [-24.2377, -17.1791, -19.4314,   3.3253,  -3.9760,  27.4464,   3.5257,\n",
       "          -8.4833,  14.8661,  -7.1703],\n",
       "        [-17.3304, -20.2584, -13.6841,   7.9489,  -4.2266,   9.9020,   7.6325,\n",
       "          -7.6741,  10.4010, -15.3590],\n",
       "        [-23.2395, -24.6876, -19.2776,   0.6479,   2.2959,  19.7353,   2.9270,\n",
       "          -6.2786,   8.7704,  -7.0597],\n",
       "        [-16.1573, -14.9863, -20.2620,  -5.9449,  -1.1440,  26.6050,   5.4701,\n",
       "           0.7475,   9.8539, -10.4067],\n",
       "        [ -8.4523, -18.9719, -21.4722,  -6.7534,  -2.6516,  14.1802,  -7.8622,\n",
       "          -5.4756,   6.7525, -18.3294],\n",
       "        [-13.1958, -20.9880, -26.6200,  -2.9879,  -6.3633,  21.3641,   6.1811,\n",
       "          -1.8908,  16.9730,  -9.7815],\n",
       "        [-31.0393, -14.1085, -25.3731,   0.3759, -14.2994,  22.9678,   1.1243,\n",
       "          -3.5775,  11.1588,  -8.0135],\n",
       "        [-17.1104, -25.9910,   1.2975,   1.5306,  11.4490,  11.6762,  -2.8992,\n",
       "         -12.0958,  19.5815, -15.9021],\n",
       "        [-21.6040, -14.1973, -16.3500,  -3.4328,  -9.2593,  26.6422,   4.2554,\n",
       "          -5.5114,   7.3074,  -7.8839],\n",
       "        [ -8.0970, -17.3543, -12.2597,   7.9253,   0.5893,  14.0123,   4.9991,\n",
       "          -6.3252,  14.2650,  -0.3228],\n",
       "        [-14.4207, -15.0539,  -6.6813,   4.2836,  -0.7636,  23.4647,   6.1176,\n",
       "          -1.8982,  20.9185,  -2.7725],\n",
       "        [-32.6627, -17.5657, -16.8336,  -3.4370,   0.6889,  14.9824,   1.8261,\n",
       "          -1.6640,  10.0055, -15.5029],\n",
       "        [-24.3799, -15.3766, -24.1552,  13.2420,  -4.2231,  20.8751,   4.7959,\n",
       "         -10.3940,   7.8520,  -5.4533],\n",
       "        [-24.0055, -16.6307, -15.5066,   3.7026,  -9.1378,  22.1055,   3.0008,\n",
       "          -5.1264,   6.9671, -14.2330],\n",
       "        [-10.7998, -20.6246, -22.5809,   0.0181,  -3.8277,  22.3548,  -8.4880,\n",
       "           1.2343,   7.0894,  -2.1681],\n",
       "        [-28.5436, -19.3001, -17.5321,   3.4644,   2.0372,  27.6481,   7.7113,\n",
       "         -11.6006,   9.1065, -11.9491],\n",
       "        [-15.4250, -16.5193, -30.5271,  -2.0761,  -3.6922,  20.5146,  -3.1794,\n",
       "          -2.5553,  10.6901,  -6.2610],\n",
       "        [-21.7735, -14.5495, -25.4190,  -3.2380, -14.8534,  23.5147,   4.5822,\n",
       "          -1.3833,  10.4880,  -2.1528],\n",
       "        [-10.0975, -15.5672, -12.6430,   0.9661,   2.9448,  29.9940,  -8.2999,\n",
       "          -0.8008,  12.4457,  -5.9676],\n",
       "        [-19.7223, -17.3990, -18.6825,   7.5272,  -6.5568,  25.5606,   5.2972,\n",
       "           1.7648,   8.0842,  -6.6667],\n",
       "        [-26.1658, -18.5891, -26.2609,   1.0813,  -3.1230,  22.7395,  -2.5057,\n",
       "           0.6216,   8.8602,  -3.5249],\n",
       "        [-26.6900, -15.6253, -23.1438,   9.0823,   0.9269,  28.0763,   6.1166,\n",
       "          -3.8902,   4.9525,  -0.7248],\n",
       "        [-18.0054, -16.3692, -20.2486,  11.7921,  -9.2712,  15.8473,  13.7272,\n",
       "           2.0788,   5.7861,  -7.7764],\n",
       "        [-26.1694, -18.3780, -13.9444,  -4.1459,  -4.3826,  25.3575,   3.2104,\n",
       "           3.4995,  13.5321, -19.8279],\n",
       "        [-29.1538, -15.4346, -25.8675,  -0.6558,  -7.0082,  26.9976,   8.1346,\n",
       "           1.8849,  11.6453,  -9.9635],\n",
       "        [-21.3448, -14.3696, -15.3082,   2.6417,   1.9063,  26.4610,  -0.8491,\n",
       "           8.5463,   9.7940, -11.2762],\n",
       "        [-19.6633, -14.2191, -17.0433,   4.9231,   2.9107,  18.6111,   0.4127,\n",
       "         -16.8722,   4.8620,  -4.4641],\n",
       "        [-24.5494, -30.3297, -16.7392,   7.8886,  -5.7331,  12.4328,   5.4030,\n",
       "         -11.5885,  27.3321, -16.7848],\n",
       "        [-24.0505, -14.9194, -18.4564,  -2.0912,   0.1500,  23.8768,   0.2303,\n",
       "          -4.0267,   8.3487,  -8.8982],\n",
       "        [-29.1746, -20.1117, -11.4990,   4.8922,  -3.4388,  25.1135,   4.2256,\n",
       "          -8.4702,   3.5282,  -9.8948],\n",
       "        [-15.4302, -17.2990, -23.2310,   4.0461,   1.0852,  20.5321,   3.0926,\n",
       "           3.8756,  11.7034,  -4.9746],\n",
       "        [-19.1935, -18.5293, -13.9777,   6.6919,  -7.0189,  12.4188,  -4.4747,\n",
       "         -11.5104,  14.6495,  -8.9388],\n",
       "        [-15.1833, -13.3122, -22.6385,  -0.2159,  -2.9348,  23.1740,  -1.7892,\n",
       "         -10.4823,   7.0569,  -0.0370],\n",
       "        [-12.8994, -14.5035,  -9.0371,  -0.5035,   3.6003,  23.5591,   7.7657,\n",
       "         -11.1273,   3.2305,  -6.1770],\n",
       "        [-20.7221,  -5.8978, -17.5273,  -3.6234, -10.1502,  30.5039,  -5.6775,\n",
       "         -13.9095,  15.4822,  -3.5060],\n",
       "        [-15.4970, -13.6695, -12.7924,  -1.7752,   0.1359,  20.8174,  -4.9306,\n",
       "          -7.4043,   8.2234,  -3.2977],\n",
       "        [-14.1861, -19.9370, -17.1331,   3.3642,  -9.6106,  23.9119,   3.5384,\n",
       "          -3.4063,  11.8687,   0.7994],\n",
       "        [-11.6736, -22.5165, -21.7307,  -8.6085, -14.9401,  23.2904,  -6.3454,\n",
       "           1.1213,  16.6776,  -1.5993],\n",
       "        [-18.8155, -20.3499, -17.5435,  -0.1751,   3.3539,  13.4772,   1.8492,\n",
       "          -3.8477,  14.2156, -15.3595],\n",
       "        [-10.4799, -18.6428, -17.4103,   3.0610,  -4.2116,  21.1976,  -2.6990,\n",
       "          -1.1597,  12.2284,  -5.3891],\n",
       "        [-20.5450, -18.0421, -14.1509,   7.1556,  -5.4781,  17.0608,   4.4280,\n",
       "           2.4676,   5.6180,  -6.4625],\n",
       "        [-21.9290, -22.8431, -19.2073,   4.4391,   4.1733,  21.8148,   7.0075,\n",
       "          -1.9702,   8.5582,  -1.3163],\n",
       "        [-10.4909, -24.7710, -15.9663,   0.4613,  -2.1938,  12.9498,  -4.6001,\n",
       "          -2.8848,  19.6083,  -4.7239],\n",
       "        [-22.6144, -12.3675, -22.4712,  -3.6682,  -4.9757,  17.1198,  -2.4581,\n",
       "          -3.6252,   2.6384,  -3.4267],\n",
       "        [-19.7404, -11.5363, -23.6061,  -0.0481,   0.1814,   9.3405,   6.0598,\n",
       "          -7.1140,  10.5706,  -9.4085],\n",
       "        [-14.7296,  -6.7423, -15.5910,   0.7631,  -3.1262,  25.3394, -12.0086,\n",
       "          -8.3971,  11.0587,  -5.0759],\n",
       "        [-16.6047, -14.1120, -19.1925,  -1.0274, -12.4189,  24.4434,   3.8122,\n",
       "         -13.4222,  11.0545,  -3.9816]])"
      ]
     },
     "execution_count": 12,
     "metadata": {},
     "output_type": "execute_result"
    }
   ],
   "source": [
    "## Your solution\n",
    "\n",
    "#activation function\n",
    "def activation(x):\n",
    "    return 1/(1+torch.exp(-x))\n",
    "\n",
    "# Flatten the input images\n",
    "inputs = images.view(images.shape[0], -1)\n",
    "\n",
    "# Create parameters\n",
    "w1 = torch.randn(784, 256)\n",
    "b1 = torch.randn(256)\n",
    "\n",
    "w2 = torch.randn(256, 10)\n",
    "b2 = torch.randn(10)\n",
    "\n",
    "h = activation(torch.mm(inputs, w1) + b1)\n",
    "\n",
    "out = torch.mm(h, w2) + b2\n",
    "out  # output of your network, should have shape (64,10)"
   ]
  },
  {
   "cell_type": "markdown",
   "metadata": {},
   "source": [
    "Now we have 10 outputs for our network. We want to pass in an image to our network and get out a probability distribution over the classes that tells us the likely class(es) the image belongs to. Something that looks like this:\n",
    "<img src='assets/image_distribution.png' width=500px>\n",
    "\n",
    "Here we see that the probability for each class is roughly the same. This is representing an untrained network, it hasn't seen any data yet so it just returns a uniform distribution with equal probabilities for each class.\n",
    "\n",
    "To calculate this probability distribution, we often use the [**softmax** function](https://en.wikipedia.org/wiki/Softmax_function). Mathematically this looks like\n",
    "\n",
    "$$\n",
    "\\Large \\sigma(x_i) = \\cfrac{e^{x_i}}{\\sum_k^K{e^{x_k}}}\n",
    "$$\n",
    "\n",
    "What this does is squish each input $x_i$ between 0 and 1 and normalizes the values to give you a proper probability distribution where the probabilites sum up to one.\n",
    "\n",
    "> **Exercise:** Implement a function `softmax` that performs the softmax calculation and returns probability distributions for each example in the batch. Note that you'll need to pay attention to the shapes when doing this. If you have a tensor `a` with shape `(64, 10)` and a tensor `b` with shape `(64,)`, doing `a/b` will give you an error because PyTorch will try to do the division across the columns (called broadcasting) but you'll get a size mismatch. The way to think about this is for each of the 64 examples, you only want to divide by one value, the sum in the denominator. So you need `b` to have a shape of `(64, 1)`. This way PyTorch will divide the 10 values in each row of `a` by the one value in each row of `b`. Pay attention to how you take the sum as well. You'll need to define the `dim` keyword in `torch.sum`. Setting `dim=0` takes the sum across the rows while `dim=1` takes the sum across the columns."
   ]
  },
  {
   "cell_type": "code",
   "execution_count": 20,
   "metadata": {},
   "outputs": [
    {
     "name": "stdout",
     "output_type": "stream",
     "text": [
      "tensor([1.4321e+07, 2.6714e+07, 2.8785e+11, 3.9578e+10, 1.5148e+10, 9.4959e+08,\n",
      "        1.5733e+11, 8.3879e+10, 2.8582e+13, 2.4065e+08, 1.2444e+08, 4.7364e+07,\n",
      "        1.6215e+10, 6.1849e+07, 3.8988e+07, 2.4751e+08, 1.4087e+06, 8.3138e+11,\n",
      "        5.7762e+04, 3.7235e+08, 3.5842e+11, 1.4409e+06, 1.9216e+09, 9.4363e+09,\n",
      "        3.1945e+08, 3.7201e+11, 2.7880e+06, 1.6725e+10, 3.2343e+06, 1.1645e+09,\n",
      "        3.9838e+09, 5.1119e+09, 1.0172e+12, 8.1171e+08, 1.6304e+10, 1.0623e+13,\n",
      "        1.2614e+11, 7.5099e+09, 1.5609e+12, 8.6754e+06, 1.0295e+11, 5.3077e+11,\n",
      "        3.1036e+11, 1.2098e+08, 7.4164e+11, 2.3418e+10, 8.0660e+10, 8.2612e+08,\n",
      "        2.5507e+06, 1.1597e+10, 1.7044e+10, 1.7688e+13, 1.0987e+09, 2.4255e+10,\n",
      "        1.3046e+10, 2.2050e+06, 1.6072e+09, 2.5671e+07, 2.9788e+09, 3.2835e+08,\n",
      "        2.7230e+07, 5.0791e+04, 1.0111e+11, 4.1268e+10])\n"
     ]
    }
   ],
   "source": [
    "print(torch.sum(torch.exp(out), dim=1))"
   ]
  },
  {
   "cell_type": "code",
   "execution_count": 19,
   "metadata": {},
   "outputs": [
    {
     "name": "stdout",
     "output_type": "stream",
     "text": [
      "tensor([[1.4321e+07],\n",
      "        [2.6714e+07],\n",
      "        [2.8785e+11],\n",
      "        [3.9578e+10],\n",
      "        [1.5148e+10],\n",
      "        [9.4959e+08],\n",
      "        [1.5733e+11],\n",
      "        [8.3879e+10],\n",
      "        [2.8582e+13],\n",
      "        [2.4065e+08],\n",
      "        [1.2444e+08],\n",
      "        [4.7364e+07],\n",
      "        [1.6215e+10],\n",
      "        [6.1849e+07],\n",
      "        [3.8988e+07],\n",
      "        [2.4751e+08],\n",
      "        [1.4087e+06],\n",
      "        [8.3138e+11],\n",
      "        [5.7762e+04],\n",
      "        [3.7235e+08],\n",
      "        [3.5842e+11],\n",
      "        [1.4409e+06],\n",
      "        [1.9216e+09],\n",
      "        [9.4363e+09],\n",
      "        [3.1945e+08],\n",
      "        [3.7201e+11],\n",
      "        [2.7880e+06],\n",
      "        [1.6725e+10],\n",
      "        [3.2343e+06],\n",
      "        [1.1645e+09],\n",
      "        [3.9838e+09],\n",
      "        [5.1119e+09],\n",
      "        [1.0172e+12],\n",
      "        [8.1171e+08],\n",
      "        [1.6304e+10],\n",
      "        [1.0623e+13],\n",
      "        [1.2614e+11],\n",
      "        [7.5099e+09],\n",
      "        [1.5609e+12],\n",
      "        [8.6754e+06],\n",
      "        [1.0295e+11],\n",
      "        [5.3077e+11],\n",
      "        [3.1036e+11],\n",
      "        [1.2098e+08],\n",
      "        [7.4164e+11],\n",
      "        [2.3418e+10],\n",
      "        [8.0660e+10],\n",
      "        [8.2612e+08],\n",
      "        [2.5507e+06],\n",
      "        [1.1597e+10],\n",
      "        [1.7044e+10],\n",
      "        [1.7688e+13],\n",
      "        [1.0987e+09],\n",
      "        [2.4255e+10],\n",
      "        [1.3046e+10],\n",
      "        [2.2050e+06],\n",
      "        [1.6072e+09],\n",
      "        [2.5671e+07],\n",
      "        [2.9788e+09],\n",
      "        [3.2835e+08],\n",
      "        [2.7230e+07],\n",
      "        [5.0791e+04],\n",
      "        [1.0111e+11],\n",
      "        [4.1268e+10]])\n"
     ]
    }
   ],
   "source": [
    "print(torch.sum(torch.exp(out), dim=1).view(-1, 1))"
   ]
  },
  {
   "cell_type": "code",
   "execution_count": 14,
   "metadata": {},
   "outputs": [
    {
     "name": "stdout",
     "output_type": "stream",
     "text": [
      "torch.Size([64, 10])\n",
      "tensor([1.0000, 1.0000, 1.0000, 1.0000, 1.0000, 1.0000, 1.0000, 1.0000, 1.0000,\n",
      "        1.0000, 1.0000, 1.0000, 1.0000, 1.0000, 1.0000, 1.0000, 1.0000, 1.0000,\n",
      "        1.0000, 1.0000, 1.0000, 1.0000, 1.0000, 1.0000, 1.0000, 1.0000, 1.0000,\n",
      "        1.0000, 1.0000, 1.0000, 1.0000, 1.0000, 1.0000, 1.0000, 1.0000, 1.0000,\n",
      "        1.0000, 1.0000, 1.0000, 1.0000, 1.0000, 1.0000, 1.0000, 1.0000, 1.0000,\n",
      "        1.0000, 1.0000, 1.0000, 1.0000, 1.0000, 1.0000, 1.0000, 1.0000, 1.0000,\n",
      "        1.0000, 1.0000, 1.0000, 1.0000, 1.0000, 1.0000, 1.0000, 1.0000, 1.0000,\n",
      "        1.0000])\n"
     ]
    }
   ],
   "source": [
    "def softmax(x):\n",
    "    return torch.exp(x)/torch.sum(torch.exp(x), dim=1).view(-1, 1) ####\n",
    "\n",
    "# Here, out should be the output of the network in the previous excercise with shape (64,10)\n",
    "probabilities = softmax(out)\n",
    "\n",
    "# Does it have the right shape? Should be (64, 10)\n",
    "print(probabilities.shape)\n",
    "# Does it sum to 1?\n",
    "print(probabilities.sum(dim=1))"
   ]
  },
  {
   "cell_type": "markdown",
   "metadata": {},
   "source": [
    "## Building networks with PyTorch\n",
    "\n",
    "PyTorch provides a module `nn` that makes building networks much simpler. Here I'll show you how to build the same one as above with 784 inputs, 256 hidden units, 10 output units and a softmax output."
   ]
  },
  {
   "cell_type": "code",
   "execution_count": 22,
   "metadata": {},
   "outputs": [],
   "source": [
    "from torch import nn"
   ]
  },
  {
   "cell_type": "code",
   "execution_count": 23,
   "metadata": {},
   "outputs": [],
   "source": [
    "class Network(nn.Module):\n",
    "    def __init__(self):\n",
    "        super().__init__()\n",
    "        \n",
    "        # Inputs to hidden layer linear transformation\n",
    "        self.hidden = nn.Linear(784, 256)\n",
    "        # Output layer, 10 units - one for each digit\n",
    "        self.output = nn.Linear(256, 10)\n",
    "        \n",
    "        # Define sigmoid activation and softmax output \n",
    "        self.sigmoid = nn.Sigmoid()\n",
    "        self.softmax = nn.Softmax(dim=1)\n",
    "        \n",
    "    def forward(self, x):\n",
    "        # Pass the input tensor through each of our operations\n",
    "        x = self.hidden(x)\n",
    "        x = self.sigmoid(x)\n",
    "        x = self.output(x)\n",
    "        x = self.softmax(x)\n",
    "        \n",
    "        return x"
   ]
  },
  {
   "cell_type": "markdown",
   "metadata": {},
   "source": [
    "Let's go through this bit by bit.\n",
    "\n",
    "```python\n",
    "class Network(nn.Module):\n",
    "```\n",
    "\n",
    "Here we're inheriting from `nn.Module`. Combined with `super().__init__()` this creates a class that tracks the architecture and provides a lot of useful methods and attributes. It is mandatory to inherit from `nn.Module` when you're creating a class for your network. The name of the class itself can be anything.\n",
    "\n",
    "```python\n",
    "self.hidden = nn.Linear(784, 256)\n",
    "```\n",
    "\n",
    "This line creates a module for a linear transformation, $x\\mathbf{W} + b$, with 784 inputs and 256 outputs and assigns it to `self.hidden`. The module automatically creates the weight and bias tensors which we'll use in the `forward` method. You can access the weight and bias tensors once the network once it's create at `net.hidden.weight` and `net.hidden.bias`.\n",
    "\n",
    "```python\n",
    "self.output = nn.Linear(256, 10)\n",
    "```\n",
    "\n",
    "Similarly, this creates another linear transformation with 256 inputs and 10 outputs.\n",
    "\n",
    "```python\n",
    "self.sigmoid = nn.Sigmoid()\n",
    "self.softmax = nn.Softmax(dim=1)\n",
    "```\n",
    "\n",
    "Here I defined operations for the sigmoid activation and softmax output. Setting `dim=1` in `nn.Softmax(dim=1)` calculates softmax across the columns.\n",
    "\n",
    "```python\n",
    "def forward(self, x):\n",
    "```\n",
    "\n",
    "PyTorch networks created with `nn.Module` must have a `forward` method defined. It takes in a tensor `x` and passes it through the operations you defined in the `__init__` method.\n",
    "\n",
    "```python\n",
    "x = self.hidden(x)\n",
    "x = self.sigmoid(x)\n",
    "x = self.output(x)\n",
    "x = self.softmax(x)\n",
    "```\n",
    "\n",
    "Here the input tensor `x` is passed through each operation a reassigned to `x`. We can see that the input tensor goes through the hidden layer, then a sigmoid function, then the output layer, and finally the softmax function. It doesn't matter what you name the variables here, as long as the inputs and outputs of the operations match the network architecture you want to build. The order in which you define things in the `__init__` method doesn't matter, but you'll need to sequence the operations correctly in the `forward` method.\n",
    "\n",
    "Now we can create a `Network` object."
   ]
  },
  {
   "cell_type": "code",
   "execution_count": 24,
   "metadata": {},
   "outputs": [
    {
     "data": {
      "text/plain": [
       "Network(\n",
       "  (hidden): Linear(in_features=784, out_features=256, bias=True)\n",
       "  (output): Linear(in_features=256, out_features=10, bias=True)\n",
       "  (sigmoid): Sigmoid()\n",
       "  (softmax): Softmax()\n",
       ")"
      ]
     },
     "execution_count": 24,
     "metadata": {},
     "output_type": "execute_result"
    }
   ],
   "source": [
    "# Create the network and look at it's text representation\n",
    "model = Network()\n",
    "model"
   ]
  },
  {
   "cell_type": "markdown",
   "metadata": {},
   "source": [
    "You can define the network somewhat more concisely and clearly using the `torch.nn.functional` module. This is the most common way you'll see networks defined as many operations are simple element-wise functions. We normally import this module as `F`, `import torch.nn.functional as F`."
   ]
  },
  {
   "cell_type": "code",
   "execution_count": 25,
   "metadata": {},
   "outputs": [],
   "source": [
    "import torch.nn.functional as F\n",
    "\n",
    "class Network(nn.Module):\n",
    "    def __init__(self):\n",
    "        super().__init__()\n",
    "        # Inputs to hidden layer linear transformation\n",
    "        self.hidden = nn.Linear(784, 256)\n",
    "        # Output layer, 10 units - one for each digit\n",
    "        self.output = nn.Linear(256, 10)\n",
    "        \n",
    "    def forward(self, x):\n",
    "        # Hidden layer with sigmoid activation\n",
    "        x = F.sigmoid(self.hidden(x))\n",
    "        # Output layer with softmax activation\n",
    "        x = F.softmax(self.output(x), dim=1)\n",
    "        \n",
    "        return x"
   ]
  },
  {
   "cell_type": "markdown",
   "metadata": {},
   "source": [
    "### Activation functions\n",
    "\n",
    "So far we've only been looking at the softmax activation, but in general any function can be used as an activation function. The only requirement is that for a network to approximate a non-linear function, the activation functions must be non-linear. Here are a few more examples of common activation functions: Tanh (hyperbolic tangent), and ReLU (rectified linear unit).\n",
    "\n",
    "<img src=\"assets/activation.png\" width=700px>\n",
    "\n",
    "In practice, the ReLU function is used almost exclusively as the activation function for hidden layers."
   ]
  },
  {
   "cell_type": "markdown",
   "metadata": {},
   "source": [
    "### Your Turn to Build a Network\n",
    "\n",
    "<img src=\"assets/mlp_mnist.png\" width=600px>\n",
    "\n",
    "> **Exercise:** Create a network with 784 input units, a hidden layer with 128 units and a ReLU activation, then a hidden layer with 64 units and a ReLU activation, and finally an output layer with a softmax activation as shown above. You can use a ReLU activation with the `nn.ReLU` module or `F.relu` function."
   ]
  },
  {
   "cell_type": "code",
   "execution_count": 42,
   "metadata": {
    "scrolled": true
   },
   "outputs": [],
   "source": [
    "## Your solution here\n",
    "class Network(nn.Module):\n",
    "    def __init__(self):\n",
    "        super().__init__()\n",
    "        # Defining the layers, 128, 64, 10 units each\n",
    "        self.fc1 = nn.Linear(784, 128)\n",
    "        self.fc2 = nn.Linear(128, 64)\n",
    "        # Output layer, 10 units - one for each digit\n",
    "        self.fc3 = nn.Linear(64, 10)\n",
    "        \n",
    "    def forward(self, x):\n",
    "        ''' Forward pass through the network, returns the output logits '''\n",
    "        \n",
    "\n",
    "        x = F.relu(self.fc1(x))\n",
    "        x = F.relu(self.fc2(x))\n",
    "        x = F.softmax(self.fc3(x), dim=1)\n",
    "        \n",
    "        return x\n",
    "        \n"
   ]
  },
  {
   "cell_type": "code",
   "execution_count": 43,
   "metadata": {},
   "outputs": [
    {
     "data": {
      "text/plain": [
       "Network(\n",
       "  (fc1): Linear(in_features=784, out_features=128, bias=True)\n",
       "  (fc2): Linear(in_features=128, out_features=64, bias=True)\n",
       "  (fc3): Linear(in_features=64, out_features=10, bias=True)\n",
       ")"
      ]
     },
     "execution_count": 43,
     "metadata": {},
     "output_type": "execute_result"
    }
   ],
   "source": [
    "model = Network()\n",
    "model"
   ]
  },
  {
   "cell_type": "markdown",
   "metadata": {},
   "source": [
    "### Initializing weights and biases\n",
    "\n",
    "The weights and such are automatically initialized for you, but it's possible to customize how they are initialized. The weights and biases are tensors attached to the layer you defined, you can get them with `model.fc1.weight` for instance."
   ]
  },
  {
   "cell_type": "code",
   "execution_count": 44,
   "metadata": {},
   "outputs": [
    {
     "name": "stdout",
     "output_type": "stream",
     "text": [
      "Parameter containing:\n",
      "tensor([[ 0.0191,  0.0247,  0.0344,  ...,  0.0348,  0.0197, -0.0088],\n",
      "        [ 0.0219,  0.0083,  0.0222,  ..., -0.0134, -0.0354,  0.0217],\n",
      "        [-0.0211, -0.0031,  0.0162,  ...,  0.0081, -0.0318, -0.0256],\n",
      "        ...,\n",
      "        [-0.0208, -0.0326,  0.0315,  ...,  0.0248, -0.0277,  0.0005],\n",
      "        [-0.0223,  0.0005,  0.0124,  ...,  0.0197,  0.0252, -0.0356],\n",
      "        [-0.0216, -0.0266, -0.0251,  ...,  0.0260, -0.0282, -0.0062]],\n",
      "       requires_grad=True)\n",
      "Parameter containing:\n",
      "tensor([-0.0260, -0.0184, -0.0290, -0.0001,  0.0213, -0.0237, -0.0257, -0.0197,\n",
      "        -0.0184,  0.0312, -0.0046,  0.0146,  0.0030, -0.0187,  0.0010,  0.0312,\n",
      "         0.0275,  0.0328, -0.0233, -0.0323, -0.0134, -0.0269,  0.0345,  0.0269,\n",
      "         0.0164,  0.0232, -0.0261, -0.0154,  0.0103, -0.0231, -0.0323, -0.0197,\n",
      "         0.0222,  0.0272,  0.0208, -0.0160, -0.0235,  0.0057, -0.0109,  0.0227,\n",
      "        -0.0165, -0.0262,  0.0215,  0.0036,  0.0190, -0.0184,  0.0063,  0.0087,\n",
      "         0.0323,  0.0306,  0.0264, -0.0124,  0.0031, -0.0343,  0.0339, -0.0153,\n",
      "        -0.0014, -0.0215,  0.0314, -0.0122,  0.0160, -0.0201,  0.0335, -0.0320,\n",
      "         0.0145,  0.0037, -0.0006,  0.0247, -0.0304,  0.0237,  0.0320, -0.0032,\n",
      "        -0.0137,  0.0169, -0.0100,  0.0252, -0.0077,  0.0276,  0.0153,  0.0307,\n",
      "         0.0234,  0.0298, -0.0110,  0.0030, -0.0280,  0.0014,  0.0024, -0.0187,\n",
      "         0.0307,  0.0079,  0.0306,  0.0204,  0.0137, -0.0083, -0.0177,  0.0035,\n",
      "         0.0142,  0.0069, -0.0246, -0.0118,  0.0295,  0.0311, -0.0055, -0.0135,\n",
      "         0.0034,  0.0355,  0.0167, -0.0226, -0.0092, -0.0316,  0.0103, -0.0333,\n",
      "         0.0170,  0.0106,  0.0023,  0.0197,  0.0250,  0.0043,  0.0239,  0.0203,\n",
      "        -0.0138, -0.0291,  0.0277,  0.0143, -0.0044,  0.0175,  0.0229, -0.0154],\n",
      "       requires_grad=True)\n"
     ]
    }
   ],
   "source": [
    "print(model.fc1.weight)\n",
    "print(model.fc1.bias)"
   ]
  },
  {
   "cell_type": "markdown",
   "metadata": {},
   "source": [
    "For custom initialization, we want to modify these tensors in place. These are actually autograd *Variables*, so we need to get back the actual tensors with `model.fc1.weight.data`. Once we have the tensors, we can fill them with zeros (for biases) or random normal values."
   ]
  },
  {
   "cell_type": "code",
   "execution_count": 45,
   "metadata": {},
   "outputs": [
    {
     "data": {
      "text/plain": [
       "tensor([0., 0., 0., 0., 0., 0., 0., 0., 0., 0., 0., 0., 0., 0., 0., 0., 0., 0.,\n",
       "        0., 0., 0., 0., 0., 0., 0., 0., 0., 0., 0., 0., 0., 0., 0., 0., 0., 0.,\n",
       "        0., 0., 0., 0., 0., 0., 0., 0., 0., 0., 0., 0., 0., 0., 0., 0., 0., 0.,\n",
       "        0., 0., 0., 0., 0., 0., 0., 0., 0., 0., 0., 0., 0., 0., 0., 0., 0., 0.,\n",
       "        0., 0., 0., 0., 0., 0., 0., 0., 0., 0., 0., 0., 0., 0., 0., 0., 0., 0.,\n",
       "        0., 0., 0., 0., 0., 0., 0., 0., 0., 0., 0., 0., 0., 0., 0., 0., 0., 0.,\n",
       "        0., 0., 0., 0., 0., 0., 0., 0., 0., 0., 0., 0., 0., 0., 0., 0., 0., 0.,\n",
       "        0., 0.])"
      ]
     },
     "execution_count": 45,
     "metadata": {},
     "output_type": "execute_result"
    }
   ],
   "source": [
    "# Set biases to all zeros\n",
    "model.fc1.bias.data.fill_(0)"
   ]
  },
  {
   "cell_type": "code",
   "execution_count": 46,
   "metadata": {},
   "outputs": [
    {
     "data": {
      "text/plain": [
       "tensor([[ 0.0049, -0.0037, -0.0085,  ...,  0.0100,  0.0112, -0.0223],\n",
       "        [ 0.0012,  0.0040, -0.0073,  ...,  0.0004,  0.0087,  0.0088],\n",
       "        [-0.0015,  0.0020,  0.0044,  ..., -0.0002, -0.0066, -0.0045],\n",
       "        ...,\n",
       "        [-0.0038,  0.0228, -0.0171,  ...,  0.0001,  0.0074,  0.0032],\n",
       "        [-0.0120,  0.0074, -0.0108,  ...,  0.0084, -0.0092,  0.0081],\n",
       "        [ 0.0130,  0.0225, -0.0029,  ...,  0.0104,  0.0135, -0.0086]])"
      ]
     },
     "execution_count": 46,
     "metadata": {},
     "output_type": "execute_result"
    }
   ],
   "source": [
    "# sample from random normal with standard dev = 0.01\n",
    "model.fc1.weight.data.normal_(std=0.01)"
   ]
  },
  {
   "cell_type": "markdown",
   "metadata": {},
   "source": [
    "### Forward pass\n",
    "\n",
    "Now that we have a network, let's see what happens when we pass in an image."
   ]
  },
  {
   "cell_type": "code",
   "execution_count": 47,
   "metadata": {},
   "outputs": [
    {
     "data": {
      "image/png": "[encoded data removed]",
      "text/plain": [
       "<Figure size 432x648 with 2 Axes>"
      ]
     },
     "metadata": {
      "image/png": {
       "height": 224,
       "width": 423
      },
      "needs_background": "light"
     },
     "output_type": "display_data"
    }
   ],
   "source": [
    "# Grab some data \n",
    "dataiter = iter(trainloader)\n",
    "images, labels = dataiter.next()\n",
    "\n",
    "# Resize images into a 1D vector, new shape is (batch size, color channels, image pixels) \n",
    "images.resize_(64, 1, 784)\n",
    "# or images.resize_(images.shape[0], 1, 784) to automatically get batch size\n",
    "\n",
    "# Forward pass through the network\n",
    "img_idx = 0\n",
    "ps = model.forward(images[img_idx,:])\n",
    "\n",
    "img = images[img_idx]\n",
    "helper.view_classify(img.view(1, 28, 28), ps)"
   ]
  },
  {
   "cell_type": "markdown",
   "metadata": {},
   "source": [
    "As you can see above, our network has basically no idea what this digit is. It's because we haven't trained it yet, all the weights are random!\n",
    "\n",
    "### Using `nn.Sequential`\n",
    "\n",
    "PyTorch provides a convenient way to build networks like this where a tensor is passed sequentially through operations, `nn.Sequential` ([documentation](https://pytorch.org/docs/master/nn.html#torch.nn.Sequential)). Using this to build the equivalent network:"
   ]
  },
  {
   "cell_type": "code",
   "execution_count": 48,
   "metadata": {},
   "outputs": [
    {
     "name": "stdout",
     "output_type": "stream",
     "text": [
      "Sequential(\n",
      "  (0): Linear(in_features=784, out_features=128, bias=True)\n",
      "  (1): ReLU()\n",
      "  (2): Linear(in_features=128, out_features=64, bias=True)\n",
      "  (3): ReLU()\n",
      "  (4): Linear(in_features=64, out_features=10, bias=True)\n",
      "  (5): Softmax()\n",
      ")\n"
     ]
    },
    {
     "data": {
      "image/png": "[encoded data removed]",
      "text/plain": [
       "<Figure size 432x648 with 2 Axes>"
      ]
     },
     "metadata": {
      "image/png": {
       "height": 224,
       "width": 423
      },
      "needs_background": "light"
     },
     "output_type": "display_data"
    }
   ],
   "source": [
    "# Hyperparameters for our network\n",
    "input_size = 784\n",
    "hidden_sizes = [128, 64]\n",
    "output_size = 10\n",
    "\n",
    "# Build a feed-forward network\n",
    "model = nn.Sequential(nn.Linear(input_size, hidden_sizes[0]),\n",
    "                      nn.ReLU(),\n",
    "                      nn.Linear(hidden_sizes[0], hidden_sizes[1]),\n",
    "                      nn.ReLU(),\n",
    "                      nn.Linear(hidden_sizes[1], output_size),\n",
    "                      nn.Softmax(dim=1))\n",
    "print(model)\n",
    "\n",
    "# Forward pass through the network and display output\n",
    "images, labels = next(iter(trainloader))\n",
    "images.resize_(images.shape[0], 1, 784)\n",
    "ps = model.forward(images[0,:])\n",
    "helper.view_classify(images[0].view(1, 28, 28), ps)"
   ]
  },
  {
   "cell_type": "markdown",
   "metadata": {},
   "source": [
    "Here our model is the same as before: 784 input units, a hidden layer with 128 units, ReLU activation, 64 unit hidden layer, another ReLU, then the output layer with 10 units, and the softmax output.\n",
    "\n",
    "The operations are availble by passing in the appropriate index. For example, if you want to get first Linear operation and look at the weights, you'd use `model[0]`."
   ]
  },
  {
   "cell_type": "code",
   "execution_count": 49,
   "metadata": {},
   "outputs": [
    {
     "name": "stdout",
     "output_type": "stream",
     "text": [
      "Linear(in_features=784, out_features=128, bias=True)\n"
     ]
    },
    {
     "data": {
      "text/plain": [
       "Parameter containing:\n",
       "tensor([[ 0.0233, -0.0166, -0.0155,  ...,  0.0004, -0.0257, -0.0096],\n",
       "        [-0.0283,  0.0157, -0.0181,  ...,  0.0170, -0.0181,  0.0267],\n",
       "        [-0.0213, -0.0222,  0.0122,  ..., -0.0134,  0.0240, -0.0355],\n",
       "        ...,\n",
       "        [-0.0284, -0.0356, -0.0263,  ...,  0.0350,  0.0281,  0.0050],\n",
       "        [ 0.0323, -0.0024,  0.0182,  ...,  0.0093, -0.0164, -0.0196],\n",
       "        [ 0.0055, -0.0063, -0.0321,  ..., -0.0149, -0.0232, -0.0009]],\n",
       "       requires_grad=True)"
      ]
     },
     "execution_count": 49,
     "metadata": {},
     "output_type": "execute_result"
    }
   ],
   "source": [
    "print(model[0])\n",
    "model[0].weight"
   ]
  },
  {
   "cell_type": "markdown",
   "metadata": {},
   "source": [
    "You can also pass in an `OrderedDict` to name the individual layers and operations, instead of using incremental integers. Note that dictionary keys must be unique, so _each operation must have a different name_."
   ]
  },
  {
   "cell_type": "code",
   "execution_count": 50,
   "metadata": {},
   "outputs": [
    {
     "data": {
      "text/plain": [
       "Sequential(\n",
       "  (fc1): Linear(in_features=784, out_features=128, bias=True)\n",
       "  (relu1): ReLU()\n",
       "  (fc2): Linear(in_features=128, out_features=64, bias=True)\n",
       "  (relu2): ReLU()\n",
       "  (output): Linear(in_features=64, out_features=10, bias=True)\n",
       "  (softmax): Softmax()\n",
       ")"
      ]
     },
     "execution_count": 50,
     "metadata": {},
     "output_type": "execute_result"
    }
   ],
   "source": [
    "from collections import OrderedDict\n",
    "model = nn.Sequential(OrderedDict([\n",
    "                      ('fc1', nn.Linear(input_size, hidden_sizes[0])),\n",
    "                      ('relu1', nn.ReLU()),\n",
    "                      ('fc2', nn.Linear(hidden_sizes[0], hidden_sizes[1])),\n",
    "                      ('relu2', nn.ReLU()),\n",
    "                      ('output', nn.Linear(hidden_sizes[1], output_size)),\n",
    "                      ('softmax', nn.Softmax(dim=1))]))\n",
    "model"
   ]
  },
  {
   "cell_type": "markdown",
   "metadata": {},
   "source": [
    "Now you can access layers either by integer or the name"
   ]
  },
  {
   "cell_type": "code",
   "execution_count": 51,
   "metadata": {},
   "outputs": [
    {
     "name": "stdout",
     "output_type": "stream",
     "text": [
      "Linear(in_features=784, out_features=128, bias=True)\n",
      "Linear(in_features=784, out_features=128, bias=True)\n"
     ]
    }
   ],
   "source": [
    "print(model[0])\n",
    "print(model.fc1)"
   ]
  },
  {
   "cell_type": "markdown",
   "metadata": {},
   "source": [
    "In the next notebook, we'll see how we can train a neural network to accuractly predict the numbers appearing in the MNIST images."
   ]
  },
  {
   "cell_type": "code",
   "execution_count": null,
   "metadata": {},
   "outputs": [],
   "source": []
  },
  {
   "cell_type": "code",
   "execution_count": null,
   "metadata": {},
   "outputs": [],
   "source": []
  }
 ],
 "metadata": {
  "kernelspec": {
   "display_name": "Python 3",
   "language": "python",
   "name": "python3"
  },
  "language_info": {
   "codemirror_mode": {
    "name": "ipython",
    "version": 3
   },
   "file_extension": ".py",
   "mimetype": "text/x-python",
   "name": "python",
   "nbconvert_exporter": "python",
   "pygments_lexer": "ipython3",
   "version": "3.7.0"
  }
 },
 "nbformat": 4,
 "nbformat_minor": 2
}
